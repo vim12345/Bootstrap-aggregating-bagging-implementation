{
  "nbformat": 4,
  "nbformat_minor": 0,
  "metadata": {
    "colab": {
      "provenance": []
    },
    "kernelspec": {
      "name": "python3",
      "display_name": "Python 3"
    },
    "language_info": {
      "name": "python"
    }
  },
  "cells": [
    {
      "cell_type": "code",
      "execution_count": 1,
      "metadata": {
        "id": "mNEdvKISwf69"
      },
      "outputs": [],
      "source": [
        "# Import required libraries\n",
        "from sklearn.datasets import load_iris\n",
        "from sklearn.ensemble import BaggingClassifier\n",
        "from sklearn.tree import DecisionTreeClassifier\n",
        "from sklearn.model_selection import train_test_split\n",
        "from sklearn.metrics import accuracy_score\n",
        "import matplotlib.pyplot as plt"
      ]
    },
    {
      "cell_type": "code",
      "source": [
        "# Load the Iris dataset\n",
        "iris = load_iris()\n",
        "X = iris.data\n",
        "y = iris.target"
      ],
      "metadata": {
        "id": "wx02zd2Jw9Tq"
      },
      "execution_count": 2,
      "outputs": []
    },
    {
      "cell_type": "code",
      "source": [
        "# Split into training and test datasets\n",
        "X_train, X_test, y_train, y_test = train_test_split(X, y, test_size=0.3, random_state=42)"
      ],
      "metadata": {
        "id": "kkr9Ac2Ew9Wt"
      },
      "execution_count": 3,
      "outputs": []
    },
    {
      "cell_type": "code",
      "source": [
        "# Create a base model: Decision Tree\n",
        "base_model = DecisionTreeClassifier()\n",
        ""
      ],
      "metadata": {
        "id": "JFqTltJow9Zh"
      },
      "execution_count": 4,
      "outputs": []
    },
    {
      "cell_type": "code",
      "source": [
        "# Create BaggingClassifier with multiple trees trained on bootstrapped samples\n",
        "bagging_model = BaggingClassifier(\n",
        "    base_estimator=base_model,\n",
        "    n_estimators=50,           # Number of trees\n",
        "    max_samples=0.8,           # Fraction of dataset for each tree\n",
        "    bootstrap=True,            # Use bootstrapped sampling\n",
        "    random_state=42\n",
        ")"
      ],
      "metadata": {
        "id": "c_RviHJsw9c6"
      },
      "execution_count": null,
      "outputs": []
    },
    {
      "cell_type": "code",
      "source": [
        "# Train the bagging model\n",
        "bagging_model.fit(X_train, y_train)\n",
        ""
      ],
      "metadata": {
        "id": "JoaZFlCSw9gB"
      },
      "execution_count": null,
      "outputs": []
    },
    {
      "cell_type": "code",
      "source": [
        "# Make predictions\n",
        "y_pred = bagging_model.predict(X_test)\n",
        ""
      ],
      "metadata": {
        "id": "e6oabOkAw9jS"
      },
      "execution_count": null,
      "outputs": []
    },
    {
      "cell_type": "code",
      "source": [
        "# Evaluate model accuracy\n",
        "accuracy = accuracy_score(y_test, y_pred)\n",
        "print(f\"Bagging (Bootstrap Aggregation) Accuracy: {accuracy:.2f}\")\n"
      ],
      "metadata": {
        "id": "G9RXGKjsxM2I"
      },
      "execution_count": null,
      "outputs": []
    },
    {
      "cell_type": "code",
      "source": [
        "# Optional: Visualize individual tree predictions (for the curious)\n",
        "print(\"\\nPredictions from first 5 individual estimators:\")\n",
        "for i, estimator in enumerate(bagging_model.estimators_[:5]):\n",
        "    print(f\"Tree {i+1} predictions: {estimator.predict(X_test)}\")"
      ],
      "metadata": {
        "id": "MTB2blOxxM82"
      },
      "execution_count": null,
      "outputs": []
    }
  ]
}